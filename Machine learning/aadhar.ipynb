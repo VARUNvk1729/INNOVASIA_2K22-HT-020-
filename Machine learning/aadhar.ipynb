{
  "nbformat": 4,
  "nbformat_minor": 0,
  "metadata": {
    "colab": {
      "provenance": [],
      "toc_visible": true
    },
    "kernelspec": {
      "name": "python3",
      "display_name": "Python 3"
    },
    "language_info": {
      "name": "python"
    }
  },
  "cells": [
    {
      "cell_type": "code",
      "source": [
        "import cv2\n",
        "import numpy as np\n",
        "import matplotlib.pyplot as plt\n",
        "import regex as re\n",
        "from PIL import Image\n",
        "import pytesseract as ocr\n",
        "from ISR.models import RRDN\n",
        "from google.colab.patches import cv2_imshow\n",
        "from pdf2image import convert_from_path\n",
        "import img2pdf"
      ],
      "metadata": {
        "id": "46vpFXzJPtM1"
      },
      "execution_count": null,
      "outputs": []
    },
    {
      "cell_type": "code",
      "source": [
        "!sudo apt install tesseract-ocr\n",
        "!pip install pytesseract\n",
        "!pip3 install ISR\n",
        "!pip install pdf2image\n",
        "!pip install img2pdf\n",
        "!sudo apt-get install poppler-utils\n",
        "!pip install regex\n",
        "!pip install ISR --no-deps"
      ],
      "metadata": {
        "colab": {
          "base_uri": "https://localhost:8080/",
          "height": 1000
        },
        "id": "UYJJxvDHd44l",
        "outputId": "b4bc3029-93f7-4404-9b23-c15ceb3dee71"
      },
      "execution_count": null,
      "outputs": [
        {
          "output_type": "stream",
          "name": "stdout",
          "text": [
            "Reading package lists... Done\n",
            "Building dependency tree       \n",
            "Reading state information... Done\n",
            "The following package was automatically installed and is no longer required:\n",
            "  libnvidia-common-460\n",
            "Use 'sudo apt autoremove' to remove it.\n",
            "The following additional packages will be installed:\n",
            "  tesseract-ocr-eng tesseract-ocr-osd\n",
            "The following NEW packages will be installed:\n",
            "  tesseract-ocr tesseract-ocr-eng tesseract-ocr-osd\n",
            "0 upgraded, 3 newly installed, 0 to remove and 7 not upgraded.\n",
            "Need to get 4,795 kB of archives.\n",
            "After this operation, 15.8 MB of additional disk space will be used.\n",
            "Get:1 http://archive.ubuntu.com/ubuntu bionic/universe amd64 tesseract-ocr-eng all 4.00~git24-0e00fe6-1.2 [1,588 kB]\n",
            "Get:2 http://archive.ubuntu.com/ubuntu bionic/universe amd64 tesseract-ocr-osd all 4.00~git24-0e00fe6-1.2 [2,989 kB]\n",
            "Get:3 http://archive.ubuntu.com/ubuntu bionic/universe amd64 tesseract-ocr amd64 4.00~git2288-10f4998a-2 [218 kB]\n",
            "Fetched 4,795 kB in 0s (11.2 MB/s)\n",
            "debconf: unable to initialize frontend: Dialog\n",
            "debconf: (No usable dialog-like program is installed, so the dialog based frontend cannot be used. at /usr/share/perl5/Debconf/FrontEnd/Dialog.pm line 76, <> line 3.)\n",
            "debconf: falling back to frontend: Readline\n",
            "debconf: unable to initialize frontend: Readline\n",
            "debconf: (This frontend requires a controlling tty.)\n",
            "debconf: falling back to frontend: Teletype\n",
            "dpkg-preconfigure: unable to re-open stdin: \n",
            "Selecting previously unselected package tesseract-ocr-eng.\n",
            "(Reading database ... 124015 files and directories currently installed.)\n",
            "Preparing to unpack .../tesseract-ocr-eng_4.00~git24-0e00fe6-1.2_all.deb ...\n",
            "Unpacking tesseract-ocr-eng (4.00~git24-0e00fe6-1.2) ...\n",
            "Selecting previously unselected package tesseract-ocr-osd.\n",
            "Preparing to unpack .../tesseract-ocr-osd_4.00~git24-0e00fe6-1.2_all.deb ...\n",
            "Unpacking tesseract-ocr-osd (4.00~git24-0e00fe6-1.2) ...\n",
            "Selecting previously unselected package tesseract-ocr.\n",
            "Preparing to unpack .../tesseract-ocr_4.00~git2288-10f4998a-2_amd64.deb ...\n",
            "Unpacking tesseract-ocr (4.00~git2288-10f4998a-2) ...\n",
            "Setting up tesseract-ocr-osd (4.00~git24-0e00fe6-1.2) ...\n",
            "Setting up tesseract-ocr-eng (4.00~git24-0e00fe6-1.2) ...\n",
            "Setting up tesseract-ocr (4.00~git2288-10f4998a-2) ...\n",
            "Processing triggers for man-db (2.8.3-2ubuntu0.1) ...\n",
            "Looking in indexes: https://pypi.org/simple, https://us-python.pkg.dev/colab-wheels/public/simple/\n",
            "Collecting pytesseract\n",
            "  Downloading pytesseract-0.3.10-py3-none-any.whl (14 kB)\n",
            "Collecting Pillow>=8.0.0\n",
            "  Downloading Pillow-9.3.0-cp38-cp38-manylinux_2_17_x86_64.manylinux2014_x86_64.whl (3.2 MB)\n",
            "\u001b[K     |████████████████████████████████| 3.2 MB 5.1 MB/s \n",
            "\u001b[?25hRequirement already satisfied: packaging>=21.3 in /usr/local/lib/python3.8/dist-packages (from pytesseract) (21.3)\n",
            "Requirement already satisfied: pyparsing!=3.0.5,>=2.0.2 in /usr/local/lib/python3.8/dist-packages (from packaging>=21.3->pytesseract) (3.0.9)\n",
            "Installing collected packages: Pillow, pytesseract\n",
            "  Attempting uninstall: Pillow\n",
            "    Found existing installation: Pillow 7.1.2\n",
            "    Uninstalling Pillow-7.1.2:\n",
            "      Successfully uninstalled Pillow-7.1.2\n",
            "Successfully installed Pillow-9.3.0 pytesseract-0.3.10\n"
          ]
        },
        {
          "output_type": "display_data",
          "data": {
            "application/vnd.colab-display-data+json": {
              "pip_warning": {
                "packages": [
                  "PIL"
                ]
              }
            }
          },
          "metadata": {}
        },
        {
          "output_type": "stream",
          "name": "stdout",
          "text": [
            "Looking in indexes: https://pypi.org/simple, https://us-python.pkg.dev/colab-wheels/public/simple/\n",
            "Collecting ISR\n",
            "  Downloading ISR-2.2.0-py3-none-any.whl (33 kB)\n",
            "Requirement already satisfied: tqdm in /usr/local/lib/python3.8/dist-packages (from ISR) (4.64.1)\n",
            "Requirement already satisfied: imageio in /usr/local/lib/python3.8/dist-packages (from ISR) (2.9.0)\n",
            "Requirement already satisfied: numpy in /usr/local/lib/python3.8/dist-packages (from ISR) (1.21.6)\n",
            "Collecting pyaml\n",
            "  Downloading pyaml-21.10.1-py2.py3-none-any.whl (24 kB)\n",
            "Collecting ISR\n",
            "  Downloading ISR-2.1.1-py3-none-any.whl (32 kB)\n",
            "  Downloading ISR-2.1-py3-none-any.whl (32 kB)\n",
            "Collecting Keras==2.2.4\n",
            "  Downloading Keras-2.2.4-py2.py3-none-any.whl (312 kB)\n",
            "\u001b[K     |████████████████████████████████| 312 kB 9.7 MB/s \n",
            "\u001b[?25hCollecting numpy==1.16.2\n",
            "  Downloading numpy-1.16.2.zip (5.1 MB)\n",
            "\u001b[K     |████████████████████████████████| 5.1 MB 54.9 MB/s \n",
            "\u001b[?25hCollecting ISR\n",
            "  Downloading ISR-2.0.5-py3-none-any.whl (35 kB)\n",
            "  Downloading ISR-2.0.2-py3-none-any.whl (29 kB)\n",
            "  Downloading ISR-2.0.1-py3-none-any.whl (33 kB)\n",
            "  Downloading ISR-2.0.0-py3-none-any.whl (32 kB)\n",
            "  Downloading ISR-1.9.3-py3-none-any.whl (31 kB)\n",
            "  Downloading ISR-1.9.2-py3-none-any.whl (31 kB)\n",
            "  Downloading ISR-1.9.1-py3-none-any.whl (28 kB)\n",
            "  Downloading ISR-1.9.0-py3-none-any.whl (27 kB)\n",
            "\u001b[31mERROR: Cannot install isr==1.9.0, isr==1.9.1, isr==1.9.2, isr==1.9.3, isr==2.0.0, isr==2.0.1, isr==2.0.2, isr==2.0.5, isr==2.1, isr==2.1.1 and isr==2.2.0 because these package versions have conflicting dependencies.\u001b[0m\n",
            "\n",
            "The conflict is caused by:\n",
            "    isr 2.2.0 depends on tensorflow==2.0.0\n",
            "    isr 2.1.1 depends on tensorflow==2.0.0\n",
            "    isr 2.1 depends on tensorflow==1.13.1\n",
            "    isr 2.0.5 depends on tensorflow==1.13.1\n",
            "    isr 2.0.2 depends on tensorflow==1.13.1\n",
            "    isr 2.0.1 depends on tensorflow==1.13.1\n",
            "    isr 2.0.0 depends on tensorflow==1.13.1\n",
            "    isr 1.9.3 depends on tensorflow==1.13.1\n",
            "    isr 1.9.2 depends on tensorflow==1.13.1\n",
            "    isr 1.9.1 depends on tensorflow==1.13.1\n",
            "    isr 1.9.0 depends on tensorflow==1.13.1\n",
            "\n",
            "To fix this you could try to:\n",
            "1. loosen the range of package versions you've specified\n",
            "2. remove package versions to allow pip attempt to solve the dependency conflict\n",
            "\n",
            "\u001b[31mERROR: ResolutionImpossible: for help visit https://pip.pypa.io/en/latest/user_guide/#fixing-conflicting-dependencies\u001b[0m\n",
            "Looking in indexes: https://pypi.org/simple, https://us-python.pkg.dev/colab-wheels/public/simple/\n",
            "Collecting pdf2image\n",
            "  Downloading pdf2image-1.16.0-py3-none-any.whl (10 kB)\n",
            "Requirement already satisfied: pillow in /usr/local/lib/python3.8/dist-packages (from pdf2image) (9.3.0)\n",
            "Installing collected packages: pdf2image\n",
            "Successfully installed pdf2image-1.16.0\n",
            "Looking in indexes: https://pypi.org/simple, https://us-python.pkg.dev/colab-wheels/public/simple/\n",
            "Collecting img2pdf\n",
            "  Downloading img2pdf-0.4.4.tar.gz (97 kB)\n",
            "\u001b[K     |████████████████████████████████| 97 kB 3.7 MB/s \n",
            "\u001b[?25hRequirement already satisfied: Pillow in /usr/local/lib/python3.8/dist-packages (from img2pdf) (9.3.0)\n",
            "Collecting pikepdf\n",
            "  Downloading pikepdf-6.2.4-cp38-cp38-manylinux_2_17_x86_64.manylinux2014_x86_64.whl (2.6 MB)\n",
            "\u001b[K     |████████████████████████████████| 2.6 MB 29.1 MB/s \n",
            "\u001b[?25hRequirement already satisfied: packaging in /usr/local/lib/python3.8/dist-packages (from pikepdf->img2pdf) (21.3)\n",
            "Collecting deprecation\n",
            "  Downloading deprecation-2.1.0-py2.py3-none-any.whl (11 kB)\n",
            "Requirement already satisfied: lxml>=4.8 in /usr/local/lib/python3.8/dist-packages (from pikepdf->img2pdf) (4.9.1)\n",
            "Requirement already satisfied: pyparsing!=3.0.5,>=2.0.2 in /usr/local/lib/python3.8/dist-packages (from packaging->pikepdf->img2pdf) (3.0.9)\n",
            "Building wheels for collected packages: img2pdf\n",
            "  Building wheel for img2pdf (setup.py) ... \u001b[?25l\u001b[?25hdone\n",
            "  Created wheel for img2pdf: filename=img2pdf-0.4.4-py3-none-any.whl size=44880 sha256=7030fd171d4cec0c3ece4b54ecbf026c765cf4d75ac4882e6e510a1ab80e4a8d\n",
            "  Stored in directory: /root/.cache/pip/wheels/eb/bc/b2/4eda06b65d019084545cddb68681b1f0f0b1fc9b6ce9e12cae\n",
            "Successfully built img2pdf\n",
            "Installing collected packages: deprecation, pikepdf, img2pdf\n",
            "Successfully installed deprecation-2.1.0 img2pdf-0.4.4 pikepdf-6.2.4\n",
            "Reading package lists... Done\n",
            "Building dependency tree       \n",
            "Reading state information... Done\n",
            "The following package was automatically installed and is no longer required:\n",
            "  libnvidia-common-460\n",
            "Use 'sudo apt autoremove' to remove it.\n",
            "The following NEW packages will be installed:\n",
            "  poppler-utils\n",
            "0 upgraded, 1 newly installed, 0 to remove and 7 not upgraded.\n",
            "Need to get 154 kB of archives.\n",
            "After this operation, 613 kB of additional disk space will be used.\n",
            "Get:1 http://archive.ubuntu.com/ubuntu bionic-updates/main amd64 poppler-utils amd64 0.62.0-2ubuntu2.14 [154 kB]\n",
            "Fetched 154 kB in 0s (882 kB/s)\n",
            "debconf: unable to initialize frontend: Dialog\n",
            "debconf: (No usable dialog-like program is installed, so the dialog based frontend cannot be used. at /usr/share/perl5/Debconf/FrontEnd/Dialog.pm line 76, <> line 1.)\n",
            "debconf: falling back to frontend: Readline\n",
            "debconf: unable to initialize frontend: Readline\n",
            "debconf: (This frontend requires a controlling tty.)\n",
            "debconf: falling back to frontend: Teletype\n",
            "dpkg-preconfigure: unable to re-open stdin: \n",
            "Selecting previously unselected package poppler-utils.\n",
            "(Reading database ... 124062 files and directories currently installed.)\n",
            "Preparing to unpack .../poppler-utils_0.62.0-2ubuntu2.14_amd64.deb ...\n",
            "Unpacking poppler-utils (0.62.0-2ubuntu2.14) ...\n",
            "Setting up poppler-utils (0.62.0-2ubuntu2.14) ...\n",
            "Processing triggers for man-db (2.8.3-2ubuntu0.1) ...\n",
            "Looking in indexes: https://pypi.org/simple, https://us-python.pkg.dev/colab-wheels/public/simple/\n",
            "Requirement already satisfied: regex in /usr/local/lib/python3.8/dist-packages (2022.6.2)\n",
            "Looking in indexes: https://pypi.org/simple, https://us-python.pkg.dev/colab-wheels/public/simple/\n",
            "Collecting ISR\n",
            "  Using cached ISR-2.2.0-py3-none-any.whl (33 kB)\n",
            "Installing collected packages: ISR\n",
            "Successfully installed ISR-2.2.0\n"
          ]
        }
      ]
    },
    {
      "cell_type": "code",
      "source": [
        "!pip install pytesseract"
      ],
      "metadata": {
        "colab": {
          "base_uri": "https://localhost:8080/",
          "height": 346
        },
        "id": "ZTVRvHqQduJN",
        "outputId": "ee3837ab-5ce4-43bc-e1a2-da49f71e69a8"
      },
      "execution_count": null,
      "outputs": [
        {
          "output_type": "stream",
          "name": "stdout",
          "text": [
            "Looking in indexes: https://pypi.org/simple, https://us-python.pkg.dev/colab-wheels/public/simple/\n",
            "Collecting pytesseract\n",
            "  Downloading pytesseract-0.3.10-py3-none-any.whl (14 kB)\n",
            "Collecting Pillow>=8.0.0\n",
            "  Downloading Pillow-9.3.0-cp38-cp38-manylinux_2_17_x86_64.manylinux2014_x86_64.whl (3.2 MB)\n",
            "\u001b[K     |████████████████████████████████| 3.2 MB 6.2 MB/s \n",
            "\u001b[?25hRequirement already satisfied: packaging>=21.3 in /usr/local/lib/python3.8/dist-packages (from pytesseract) (21.3)\n",
            "Requirement already satisfied: pyparsing!=3.0.5,>=2.0.2 in /usr/local/lib/python3.8/dist-packages (from packaging>=21.3->pytesseract) (3.0.9)\n",
            "Installing collected packages: Pillow, pytesseract\n",
            "  Attempting uninstall: Pillow\n",
            "    Found existing installation: Pillow 7.1.2\n",
            "    Uninstalling Pillow-7.1.2:\n",
            "      Successfully uninstalled Pillow-7.1.2\n",
            "Successfully installed Pillow-9.3.0 pytesseract-0.3.10\n"
          ]
        },
        {
          "output_type": "display_data",
          "data": {
            "application/vnd.colab-display-data+json": {
              "pip_warning": {
                "packages": [
                  "PIL"
                ]
              }
            }
          },
          "metadata": {}
        }
      ]
    },
    {
      "cell_type": "code",
      "source": [
        "SR_Model = RRDN(weights='gans')"
      ],
      "metadata": {
        "colab": {
          "base_uri": "https://localhost:8080/"
        },
        "id": "avmvGTTKQFXr",
        "outputId": "c99b7276-f2ff-41f3-985d-c1b01538adc1"
      },
      "execution_count": null,
      "outputs": [
        {
          "output_type": "stream",
          "name": "stdout",
          "text": [
            "Downloading data from https://public-asai-dl-models.s3.eu-central-1.amazonaws.com/ISR/rrdn-C4-D3-G32-G032-T10-x4-GANS/rrdn-C4-D3-G32-G032-T10-x4_epoch299.hdf5\n",
            "17462488/17462488 [==============================] - 1s 0us/step\n"
          ]
        }
      ]
    },
    {
      "cell_type": "code",
      "source": [
        "multiplication_table = (\n",
        "    (0, 1, 2, 3, 4, 5, 6, 7, 8, 9),\n",
        "    (1, 2, 3, 4, 0, 6, 7, 8, 9, 5),\n",
        "    (2, 3, 4, 0, 1, 7, 8, 9, 5, 6),\n",
        "    (3, 4, 0, 1, 2, 8, 9, 5, 6, 7),\n",
        "    (4, 0, 1, 2, 3, 9, 5, 6, 7, 8),\n",
        "    (5, 9, 8, 7, 6, 0, 4, 3, 2, 1),\n",
        "    (6, 5, 9, 8, 7, 1, 0, 4, 3, 2),\n",
        "    (7, 6, 5, 9, 8, 2, 1, 0, 4, 3),\n",
        "    (8, 7, 6, 5, 9, 3, 2, 1, 0, 4),\n",
        "    (9, 8, 7, 6, 5, 4, 3, 2, 1, 0))\n",
        "\n",
        "permutation_table = (\n",
        "    (0, 1, 2, 3, 4, 5, 6, 7, 8, 9),\n",
        "    (1, 5, 7, 6, 2, 8, 3, 0, 9, 4),\n",
        "    (5, 8, 0, 3, 7, 9, 6, 1, 4, 2),\n",
        "    (8, 9, 1, 6, 0, 4, 3, 5, 2, 7),\n",
        "    (9, 4, 5, 3, 1, 2, 6, 8, 7, 0),\n",
        "    (4, 2, 8, 6, 5, 7, 3, 9, 0, 1),\n",
        "    (2, 7, 9, 3, 8, 0, 6, 4, 1, 5),\n",
        "    (7, 0, 4, 6, 9, 1, 3, 2, 5, 8))\n",
        "\n",
        "def compute_checksum(number):\n",
        "    \n",
        "    \"\"\"Calculate the Verhoeff checksum over the provided number. The checksum\n",
        "    is returned as an int. Valid numbers should have a checksum of 0.\"\"\"\n",
        "    \n",
        "    # transform number list\n",
        "    number = tuple(int(n) for n in reversed(str(number)))\n",
        "    \n",
        "    # calculate checksum\n",
        "    checksum = 0\n",
        "    \n",
        "    for i, n in enumerate(number):\n",
        "        checksum = multiplication_table[checksum][permutation_table[i % 8][n]]\n",
        "    \n",
        "    return checksum"
      ],
      "metadata": {
        "id": "rx4HFwf5QJKh"
      },
      "execution_count": null,
      "outputs": []
    },
    {
      "cell_type": "code",
      "source": [
        "def Regex_Search(bounding_boxes):\n",
        "\n",
        "  possible_UIDs = []\n",
        "  Result = \"\"\n",
        "\n",
        "  for character in range(len(bounding_boxes)):\n",
        "    if len(bounding_boxes[character])!=0:\n",
        "      Result += bounding_boxes[character][0]\n",
        "    else:\n",
        "      Result += '?'\n",
        "\n",
        "  matches = [match.span() for match in re.finditer(r'\\d{12}',Result,overlapped=True)]\n",
        "\n",
        "  for match in matches :\n",
        "\n",
        "    UID = int(Result[match[0]:match[1]])\n",
        "    \n",
        "    if compute_checksum(UID)==0 and UID%10000!=1947:\n",
        "       possible_UIDs.append([UID,match[0]])\n",
        "\n",
        "  possible_UIDs = np.array(possible_UIDs)\n",
        "  return possible_UIDs"
      ],
      "metadata": {
        "id": "wkjj0lZ0PnEE"
      },
      "execution_count": null,
      "outputs": []
    },
    {
      "cell_type": "code",
      "source": [
        "def Mask_UIDs (image_path,possible_UIDs,bounding_boxes,rtype,SR=False,SR_Ratio=[1,1]):\n",
        "\n",
        "  img = cv2.imread(image_path)\n",
        "\n",
        "  if rtype==2:\n",
        "    img = cv2.rotate(img,cv2.ROTATE_90_COUNTERCLOCKWISE)\n",
        "  elif rtype==3:\n",
        "    img = cv2.rotate(img,cv2.ROTATE_180)\n",
        "  elif rtype==4:\n",
        "    img = cv2.rotate(img,cv2.ROTATE_90_CLOCKWISE)\n",
        "\n",
        "  height = img.shape[0]\n",
        "\n",
        "  if SR==True:\n",
        "    height*=SR_Ratio[1]\n",
        "\n",
        "  ########################### MASK EVERY DIGIT INDIVIDUALLY ############################\n",
        "\n",
        "  # for UID in possible_UIDs:\n",
        "\n",
        "  #   for i in range(8):\n",
        "\n",
        "  #     digit = bounding_boxes[UID[1]+i].split()\n",
        "\n",
        "  #     if SR==False:\n",
        "  #       top_left_corner = (int(digit[1]),height-int(digit[4]))\n",
        "  #       bottom_right_corner = (int(digit[3]),height-int(digit[2]))\n",
        "\n",
        "  #     else:\n",
        "  #       top_left_corner = (int(int(digit[1])/SR_Ratio[0]),int((height-int(digit[4]))/SR_Ratio[1]))\n",
        "  #       bottom_right_corner = (int(int(digit[3])/SR_Ratio[0]),int((height-int(digit[2]))/SR_Ratio[1]))\n",
        "\n",
        "  #     img = cv2.rectangle(img,top_left_corner,bottom_right_corner,(0,0,0),-1)\n",
        "\n",
        "  ######################################################################################\n",
        "\n",
        "  for UID in possible_UIDs:\n",
        "\n",
        "    digit1 = bounding_boxes[UID[1]].split()\n",
        "    digit8 = bounding_boxes[UID[1] + 7].split()\n",
        "\n",
        "    h1 = min(height-int(digit1[4]),height-int(digit8[4]))\n",
        "    h2 = max(height-int(digit1[2]),height-int(digit8[2]))\n",
        "\n",
        "    if SR==False:\n",
        "      top_left_corner = (int(digit1[1]),h1)\n",
        "      bottom_right_corner = (int(digit8[3]),h2)\n",
        "\n",
        "    else:\n",
        "      top_left_corner = (int(int(digit1[1])/SR_Ratio[0]),int((h1)/SR_Ratio[1]))\n",
        "      bottom_right_corner = (int(int(digit8[3])/SR_Ratio[0]),int((h2)/SR_Ratio[1]))\n",
        "\n",
        "    img = cv2.rectangle(img,top_left_corner,bottom_right_corner,(0,0,0),-1)\n",
        "\n",
        "  if rtype==2:\n",
        "    img = cv2.rotate(img,cv2.ROTATE_90_CLOCKWISE)\n",
        "  elif rtype==3:\n",
        "    img = cv2.rotate(img,cv2.ROTATE_180)\n",
        "  elif rtype==4:\n",
        "    img = cv2.rotate(img,cv2.ROTATE_90_COUNTERCLOCKWISE)\n",
        "\n",
        "  file_name = image_path.split('/')[-1].split('.')[0]+\"_masked\"+\".\"+image_path.split('.')[-1]\n",
        "  cv2.imwrite(file_name,img)\n",
        "  return file_name"
      ],
      "metadata": {
        "id": "Iv1djUplQQri"
      },
      "execution_count": null,
      "outputs": []
    },
    {
      "cell_type": "code",
      "source": [
        "def Extract_and_Mask_UIDs (image_path,SR=False,sr_image_path=None,SR_Ratio=[1,1]):\n",
        "\n",
        "  if SR==False:\n",
        "    img = cv2.imread(image_path)\n",
        "  else:\n",
        "    img = cv2.imread(sr_image_path)\n",
        "\n",
        "  gray = cv2.cvtColor(img,cv2.COLOR_BGR2GRAY)\n",
        "\n",
        "  rotations = [[gray,1],\n",
        "               [cv2.rotate(gray,cv2.ROTATE_90_COUNTERCLOCKWISE),2],\n",
        "               [cv2.rotate(gray,cv2.ROTATE_180),3],\n",
        "               [cv2.rotate(gray,cv2.ROTATE_90_CLOCKWISE),4],\n",
        "               [cv2.GaussianBlur(gray,(5,5),0),1],\n",
        "               [cv2.GaussianBlur(cv2.rotate(gray,cv2.ROTATE_90_COUNTERCLOCKWISE),(5,5),0),2],\n",
        "               [cv2.GaussianBlur(cv2.rotate(gray,cv2.ROTATE_180),(5,5),0),3],\n",
        "               [cv2.GaussianBlur(cv2.rotate(gray,cv2.ROTATE_90_CLOCKWISE),(5,5),0),4]]\n",
        "\n",
        "  settings = ('-l eng --oem 3 --psm 11')\n",
        "\n",
        "  for rotation in rotations :\n",
        "    \n",
        "    cv2.imwrite('rotated_grayscale.png',rotation[0])\n",
        "    bounding_boxes = ocr.image_to_boxes(Image.open('rotated_grayscale.png'),config=settings).split(\" 0\\n\")\n",
        "\n",
        "    possible_UIDs = Regex_Search(bounding_boxes)\n",
        "\n",
        "    if len(possible_UIDs)==0:\n",
        "      continue\n",
        "    else:\n",
        "\n",
        "      if SR==False:\n",
        "        masked_img = Mask_UIDs (image_path,possible_UIDs,bounding_boxes,rotation[1])\n",
        "      else:\n",
        "        masked_img = Mask_UIDs (image_path,possible_UIDs,bounding_boxes,rotation[1],True,SR_Ratio)\n",
        "\n",
        "      return (masked_img,possible_UIDs)\n",
        "\n",
        "  return (None,None)"
      ],
      "metadata": {
        "id": "TY9SM7PTQVRW"
      },
      "execution_count": null,
      "outputs": []
    },
    {
      "cell_type": "code",
      "source": [
        "input_path = \"drive/My Drive/data/14.pdf\"   # Path to the Input Image/PDF\n",
        "\n",
        "if input_path.split('.')[-1]==\"pdf\":\n",
        "    \n",
        "    pages = convert_from_path(input_path, 300)\n",
        "    pages[0].save('pdf2img.jpg', 'JPEG')\n",
        "\n",
        "if input_path.split('.')[-1]==\"pdf\":\n",
        "  masked_img,possible_UIDs = Extract_and_Mask_UIDs('pdf2img.jpg')\n",
        "else:\n",
        "  masked_img,possible_UIDs = Extract_and_Mask_UIDs(input_path)\n",
        "\n",
        "if masked_img!=None and input_path.split('.')[-1]==\"pdf\":\n",
        "    \n",
        "  image = Image.open(masked_img) \n",
        "  pdf_bytes = img2pdf.convert(image.filename) \n",
        "  file = open(input_path.split('/')[-1].split('.')[0]+\"_masked\"+\".pdf\", \"wb\")\n",
        "  masked_img = input_path.split('/')[-1].split('.')[0]+\"_masked\"+\".pdf\" \n",
        "  file.write(pdf_bytes) \n",
        "  image.close() \n",
        "  file.close() \n",
        "\n",
        "if masked_img==None:\n",
        "  print(\"Can't find any UID!\")\n",
        "else:\n",
        "  print(\"Found UIDs : \"+str(possible_UIDs[:,0]))"
      ],
      "metadata": {
        "colab": {
          "base_uri": "https://localhost:8080/"
        },
        "id": "jYHBlDGsQY--",
        "outputId": "1f7ff5b1-38da-40e5-ca3f-f3d24a3e1e50"
      },
      "execution_count": null,
      "outputs": [
        {
          "output_type": "stream",
          "name": "stdout",
          "text": [
            "Found UIDs : [255002305082]\n"
          ]
        }
      ]
    }
  ]
}